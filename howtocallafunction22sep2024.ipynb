{
  "nbformat": 4,
  "nbformat_minor": 0,
  "metadata": {
    "colab": {
      "provenance": []
    },
    "kernelspec": {
      "name": "python3",
      "display_name": "Python 3"
    },
    "language_info": {
      "name": "python"
    }
  },
  "cells": [
    {
      "cell_type": "markdown",
      "source": [
        "# LEVEL 1 : Basic Function Definition"
      ],
      "metadata": {
        "id": "6b3nKd6KXWjd"
      }
    },
    {
      "cell_type": "code",
      "execution_count": 1,
      "metadata": {
        "colab": {
          "base_uri": "https://localhost:8080/",
          "height": 36
        },
        "id": "zuvtde0rXO9p",
        "outputId": "38611609-3f74-4d33-af80-ccf3d0f94672"
      },
      "outputs": [
        {
          "output_type": "execute_result",
          "data": {
            "text/plain": [
              "'hello,world'"
            ],
            "application/vnd.google.colaboratory.intrinsic+json": {
              "type": "string"
            }
          },
          "metadata": {},
          "execution_count": 1
        }
      ],
      "source": [
        "def greet():\n",
        "    return \"hello,world\"\n",
        "greet()"
      ]
    },
    {
      "cell_type": "markdown",
      "source": [
        "# LEVEL 2 : Function Arguments"
      ],
      "metadata": {
        "id": "b2N-rgJMXyy3"
      }
    },
    {
      "cell_type": "code",
      "source": [
        "def greet(name):\n",
        "    return f\"Hello,{name}.welcome to Python\" #using f string\n",
        "greet(\"Praba\")"
      ],
      "metadata": {
        "colab": {
          "base_uri": "https://localhost:8080/",
          "height": 36
        },
        "id": "mbvED5V7XxaN",
        "outputId": "acbde34c-7ce9-4d93-dab4-7c110cecb1b0"
      },
      "execution_count": 18,
      "outputs": [
        {
          "output_type": "execute_result",
          "data": {
            "text/plain": [
              "'Hello,Praba.welcome to Python'"
            ],
            "application/vnd.google.colaboratory.intrinsic+json": {
              "type": "string"
            }
          },
          "metadata": {},
          "execution_count": 18
        }
      ]
    },
    {
      "cell_type": "markdown",
      "source": [
        "# LEVEL 3 : Default Arguments"
      ],
      "metadata": {
        "id": "UK-Dh-hrZtKh"
      }
    },
    {
      "cell_type": "code",
      "source": [
        "def greet(name=\"World\"): #default argument\n",
        "    return f\"hello,{name}!\"\n",
        "greet() # when we call the function with empty argument it didnt show the error coz we already gave the argument"
      ],
      "metadata": {
        "colab": {
          "base_uri": "https://localhost:8080/",
          "height": 36
        },
        "id": "H7aVJ0ETZIWJ",
        "outputId": "5ce17782-d26c-48b2-8413-44102e52f39b"
      },
      "execution_count": 19,
      "outputs": [
        {
          "output_type": "execute_result",
          "data": {
            "text/plain": [
              "'hello,World!'"
            ],
            "application/vnd.google.colaboratory.intrinsic+json": {
              "type": "string"
            }
          },
          "metadata": {},
          "execution_count": 19
        }
      ]
    },
    {
      "cell_type": "code",
      "source": [
        "def greet(name=\"world\"):\n",
        "    return f\"hello,{name}!\"\n",
        "greet(\"praba\") #if we gave a new argument here it will replace the default one"
      ],
      "metadata": {
        "colab": {
          "base_uri": "https://localhost:8080/",
          "height": 36
        },
        "id": "JZ_sXT5YavgJ",
        "outputId": "44fac4de-3015-4592-d65b-29c888b998ca"
      },
      "execution_count": 20,
      "outputs": [
        {
          "output_type": "execute_result",
          "data": {
            "text/plain": [
              "'hello,praba!'"
            ],
            "application/vnd.google.colaboratory.intrinsic+json": {
              "type": "string"
            }
          },
          "metadata": {},
          "execution_count": 20
        }
      ]
    },
    {
      "cell_type": "markdown",
      "source": [
        "# LEVEL 4 : Variable - Length Arguments"
      ],
      "metadata": {
        "id": "Yv15ZFhibH_b"
      }
    },
    {
      "cell_type": "markdown",
      "source": [
        "# Goal: Handle an arbitrary arguments using * args and * *kwargs\n",
        "# Concepts: * args for positional arguments, * * kwargs for keyword arguments"
      ],
      "metadata": {
        "id": "BimZ5w45bmpB"
      }
    },
    {
      "cell_type": "code",
      "source": [
        "def greet(*names): #because of the * we can add as many names into the single argument\n",
        "    return \"Hello, \" + \", \".join(names) #using join method to add the names \",\" using comma as a seperator\n",
        "greet(\"python\",\"java\",\"js\")"
      ],
      "metadata": {
        "colab": {
          "base_uri": "https://localhost:8080/",
          "height": 36
        },
        "id": "-9t5zHqpbSWa",
        "outputId": "aa8b5fdc-717b-4669-a011-5fbf94c16284"
      },
      "execution_count": 26,
      "outputs": [
        {
          "output_type": "execute_result",
          "data": {
            "text/plain": [
              "'Hello, python, java, js'"
            ],
            "application/vnd.google.colaboratory.intrinsic+json": {
              "type": "string"
            }
          },
          "metadata": {},
          "execution_count": 26
        }
      ]
    },
    {
      "cell_type": "markdown",
      "source": [
        "# LEVEL 5 : Return Multiple Values\n",
        "# Goal: Return multiple values from a function using tuple\n",
        "# Concepts: Tuple unpacking, returning multiple values."
      ],
      "metadata": {
        "id": "ULHccQiIer-u"
      }
    },
    {
      "cell_type": "code",
      "source": [
        "def divide(a,b):\n",
        "    quotient = a // b #floor division\n",
        "    remainder = a % b # modulus\n",
        "    return quotient, remainder\n",
        "divide(10,3)"
      ],
      "metadata": {
        "colab": {
          "base_uri": "https://localhost:8080/"
        },
        "id": "gHslLYazfIYD",
        "outputId": "82ac267c-54c4-4cb1-9999-ad67184299bc"
      },
      "execution_count": 31,
      "outputs": [
        {
          "output_type": "execute_result",
          "data": {
            "text/plain": [
              "(3, 1)"
            ]
          },
          "metadata": {},
          "execution_count": 31
        }
      ]
    },
    {
      "cell_type": "markdown",
      "source": [
        "# LEVEL 6 : First-Class Functions\n",
        "# Goal: Treat functions as First-class citizens by passing them as arguments or returning them.\n",
        "# Concepts : Fucntions as arguments,higher-order functions."
      ],
      "metadata": {
        "id": "9t6XKsRSgv1x"
      }
    },
    {
      "cell_type": "code",
      "source": [
        "def apply_function(func, value):\n",
        "    return func(value)\n",
        "def square(x):\n",
        "    return x * x\n",
        "result = apply_function(square, 5)\n",
        "print(result)"
      ],
      "metadata": {
        "colab": {
          "base_uri": "https://localhost:8080/"
        },
        "id": "lXDOKgcghIsP",
        "outputId": "4d6dce9a-c899-4c14-87af-9ecf15350965"
      },
      "execution_count": 32,
      "outputs": [
        {
          "output_type": "stream",
          "name": "stdout",
          "text": [
            "25\n"
          ]
        }
      ]
    },
    {
      "cell_type": "markdown",
      "source": [
        "# LEVEL 7 : Lambda Functions\n",
        "# Goal: Use lambda expressions for short, unnamed functions\n",
        "# Concepts : Lambda expressions, anonymous functions."
      ],
      "metadata": {
        "id": "tUrmkMX7ikJ6"
      }
    },
    {
      "cell_type": "code",
      "source": [
        "def apply_function(func,value):\n",
        "    return func(value)\n",
        "result = apply_function(lambda x:x*x,5)\n",
        "print(result)"
      ],
      "metadata": {
        "colab": {
          "base_uri": "https://localhost:8080/"
        },
        "id": "YNJMKHpbi4x1",
        "outputId": "c0b2b0ec-7eed-458c-8f13-85ff9398025e"
      },
      "execution_count": 33,
      "outputs": [
        {
          "output_type": "stream",
          "name": "stdout",
          "text": [
            "25\n"
          ]
        }
      ]
    },
    {
      "cell_type": "markdown",
      "source": [
        "# LEVEL 8 : Decorators\n",
        "# Goal: Modify the Behaviour of functions using decorators.\n",
        "# Concepts: Decorators, Wrapping functions, modifying behavior."
      ],
      "metadata": {
        "id": "7gPGFl7-jPqQ"
      }
    },
    {
      "cell_type": "code",
      "source": [
        "def decorator(func):\n",
        "    def wrapper(*args,**kwargs):\n",
        "        print(\"Before the function\")\n",
        "        result = func(*args, **kwargs)\n",
        "        print(result)\n",
        "        print(\"After the function\")\n",
        "    return wrapper\n",
        "\n",
        "@decorator\n",
        "def greet(name):\n",
        "    return f\"Hello, {name}!\"\n",
        "greet(\"world\")"
      ],
      "metadata": {
        "colab": {
          "base_uri": "https://localhost:8080/"
        },
        "id": "D--OzLrAkEae",
        "outputId": "6c66fbdf-2722-4940-f371-1fdadf6d4162"
      },
      "execution_count": 36,
      "outputs": [
        {
          "output_type": "stream",
          "name": "stdout",
          "text": [
            "Before the function\n",
            "Hello, world!\n",
            "After the function\n"
          ]
        }
      ]
    }
  ]
}